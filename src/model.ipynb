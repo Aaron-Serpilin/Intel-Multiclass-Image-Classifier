{
 "cells": [
  {
   "cell_type": "markdown",
   "metadata": {},
   "source": [
    "# Model File\n",
    "\n",
    "This file's purpose is to develop the RestNet CNN based on the following architecture: https://medium.com/@sharma.tanish096/detailed-explanation-of-residual-network-resnet50-cnn-model-106e0ab9fa9e"
   ]
  },
  {
   "cell_type": "code",
   "execution_count": 1,
   "metadata": {},
   "outputs": [
    {
     "name": "stdout",
     "output_type": "stream",
     "text": [
      "../data/intel-image-classification.zip already exists. Skipping download.\n",
      "../data already exists and is not empty. Skipping extraction.\n",
      "There are 3 directories and 0 images in '../data/intel-image-classification'.\n",
      "There are 1 directories and 0 images in '../data/intel-image-classification/seg_test'.\n",
      "There are 6 directories and 0 images in '../data/intel-image-classification/seg_test/seg_test'.\n",
      "There are 0 directories and 474 images in '../data/intel-image-classification/seg_test/seg_test/forest'.\n",
      "There are 0 directories and 437 images in '../data/intel-image-classification/seg_test/seg_test/buildings'.\n",
      "There are 0 directories and 553 images in '../data/intel-image-classification/seg_test/seg_test/glacier'.\n",
      "There are 0 directories and 501 images in '../data/intel-image-classification/seg_test/seg_test/street'.\n",
      "There are 0 directories and 525 images in '../data/intel-image-classification/seg_test/seg_test/mountain'.\n",
      "There are 0 directories and 510 images in '../data/intel-image-classification/seg_test/seg_test/sea'.\n",
      "There are 1 directories and 0 images in '../data/intel-image-classification/seg_train'.\n",
      "There are 6 directories and 0 images in '../data/intel-image-classification/seg_train/seg_train'.\n",
      "There are 0 directories and 2271 images in '../data/intel-image-classification/seg_train/seg_train/forest'.\n",
      "There are 0 directories and 2191 images in '../data/intel-image-classification/seg_train/seg_train/buildings'.\n",
      "There are 0 directories and 2404 images in '../data/intel-image-classification/seg_train/seg_train/glacier'.\n",
      "There are 0 directories and 2382 images in '../data/intel-image-classification/seg_train/seg_train/street'.\n",
      "There are 0 directories and 2512 images in '../data/intel-image-classification/seg_train/seg_train/mountain'.\n",
      "There are 0 directories and 2274 images in '../data/intel-image-classification/seg_train/seg_train/sea'.\n",
      "There are 1 directories and 0 images in '../data/intel-image-classification/seg_pred'.\n",
      "There are 0 directories and 7301 images in '../data/intel-image-classification/seg_pred/seg_pred'.\n",
      "The relevant paths: train_dir: ../data/intel-image-classification/seg_train/seg_train\n",
      "test_dir: ../data/intel-image-classification/seg_test/seg_test\n",
      "image_path: ../data/intel-image-classification\n",
      "The img is: tensor([[[0.0588, 0.0588, 0.0588,  ..., 0.0588, 0.0588, 0.0588],\n",
      "         [0.0588, 0.0588, 0.0588,  ..., 0.0588, 0.0588, 0.0588],\n",
      "         [0.0588, 0.0588, 0.0588,  ..., 0.0588, 0.0588, 0.0588],\n",
      "         ...,\n",
      "         [0.0588, 0.0588, 0.0588,  ..., 0.0588, 0.0588, 0.0588],\n",
      "         [0.0588, 0.0588, 0.0588,  ..., 0.0588, 0.0588, 0.0588],\n",
      "         [0.0588, 0.0588, 0.0588,  ..., 0.0588, 0.0588, 0.0588]],\n",
      "\n",
      "        [[0.0588, 0.0588, 0.0588,  ..., 0.0588, 0.0588, 0.0588],\n",
      "         [0.0588, 0.0588, 0.0588,  ..., 0.0588, 0.0588, 0.0588],\n",
      "         [0.0588, 0.0588, 0.0588,  ..., 0.0588, 0.0588, 0.0588],\n",
      "         ...,\n",
      "         [0.0588, 0.0588, 0.0588,  ..., 0.0588, 0.0588, 0.0588],\n",
      "         [0.0588, 0.0588, 0.0588,  ..., 0.0588, 0.0588, 0.0588],\n",
      "         [0.0588, 0.0588, 0.0588,  ..., 0.0588, 0.0588, 0.0588]],\n",
      "\n",
      "        [[0.0588, 0.0588, 0.0588,  ..., 0.0588, 0.0588, 0.0588],\n",
      "         [0.0588, 0.0588, 0.0588,  ..., 0.0588, 0.0588, 0.0588],\n",
      "         [0.0588, 0.0588, 0.0588,  ..., 0.0588, 0.0588, 0.0588],\n",
      "         ...,\n",
      "         [0.0588, 0.0588, 0.0588,  ..., 0.0588, 0.0588, 0.0588],\n",
      "         [0.0588, 0.0588, 0.0588,  ..., 0.0588, 0.0588, 0.0588],\n",
      "         [0.0588, 0.0588, 0.0588,  ..., 0.0588, 0.0588, 0.0588]]])\n",
      "The shape is: torch.Size([3, 224, 224])\n",
      "The label is: 0\n",
      "Image shape: torch.Size([32, 3, 224, 224]) -> [batch_size, color_channels, height, width]\n",
      "Label shape: torch.Size([32])\n"
     ]
    }
   ],
   "source": [
    "from importnb import Notebook\n",
    "with Notebook():\n",
    "    import dataloader"
   ]
  },
  {
   "cell_type": "code",
   "execution_count": 4,
   "metadata": {},
   "outputs": [],
   "source": [
    "# Importing all relevant variables\n",
    "image_path = dataloader.image_path\n",
    "train_dir = dataloader.train_dir\n",
    "test_dir = dataloader.test_dir\n",
    "pred_dir = dataloader.pred_dir\n",
    "train_transform = dataloader.train_transform\n",
    "plot_transformed_images = dataloader.plot_transformed_images\n",
    "train_data = dataloader.train_data\n",
    "test_data = dataloader.test_data\n",
    "BATCH_SIZE = dataloader.BATCH_SIZE\n",
    "train_dataloader = dataloader.train_dataloader\n",
    "test_dataloader = dataloader.test_dataloader"
   ]
  },
  {
   "cell_type": "code",
   "execution_count": 7,
   "metadata": {},
   "outputs": [
    {
     "data": {
      "text/plain": [
       "torch.Size([224, 224, 3])"
      ]
     },
     "execution_count": 7,
     "metadata": {},
     "output_type": "execute_result"
    }
   ],
   "source": [
    "img, label = train_data[0][0], train_data[0][1]\n",
    "permuted_img = img.permute(1, 2, 0)\n",
    "permuted_img.shape"
   ]
  },
  {
   "cell_type": "markdown",
   "metadata": {},
   "source": [
    "For understanding the hyperparameters set beneath, reference the following website:\n",
    "\n",
    "https://poloclub.github.io/cnn-explainer/\n",
    "\n",
    "This model uses a TinyVGG CNN, not a RestNet50 CNN, but the hyperparameter explanation is very well done. "
   ]
  },
  {
   "cell_type": "code",
   "execution_count": 9,
   "metadata": {},
   "outputs": [],
   "source": [
    "import torch\n",
    "from torch import nn\n",
    "\n",
    "class ResidualBlock(nn.Module):\n",
    "    \"\"\"\n",
    "    Residual block with the bottleneck architecture. Key integration of the RestNet50 architecture aimed at tackling the vanishing gradient problem.\n",
    "    Essentially, this block provides the model with a helper path that skips some layers from the input to the output, allowing the residual to be learned more easily. \n",
    "    This block contains three mini-layers: 1x1, 3x3, and 1x1 convolutions. We compress the data, then extract spatial features, and then compress again to its original state. \n",
    "    \"\"\"\n",
    "\n",
    "    def __init__(self, in_channels, mid_channels, out_channels, stride=1):\n",
    "\n",
    "        self.conv_block_1 = nn.Conv2d(in_channels, mid_channels, kernel_size=1, stride=stride, bias=False)\n",
    "        self.bn_block_1 = nn.BatchNorm2d(mid_channels)\n",
    "        self.conv_block_2 = nn.Conv2d(mid_channels, mid_channels, kernel_size=3, stride=1, padding=1, bias=False)\n",
    "        self.bn_block_2 = nn.BatchNorm2d(mid_channels)\n",
    "        self.conv_block_3 = nn.Conv2d(mid_channels, out_channels, kernel_size=1, stride=1, bias=False)\n",
    "        self.bn_block_3 = nn.BatchNorm2d(out_channels)\n",
    "\n",
    "        # Shortcut connection\n",
    "        self.shortcut = nn.Sequential()\n",
    "        if stride != 1 or in_channels != out_channels: # True if there are mismatched dimensions amongst the input and output channels\n",
    "            self.shortcut = nn.Sequential(\n",
    "                nn.Conv2d(in_channels, out_channels, kernel_size=1, stride=stride, bias=False), # 1x1 convolution\n",
    "                nn.BatchNorm2d(out_channels) # We normalize to match the input to the size of the output\n",
    "            )\n",
    "\n",
    "    def forward(self, x):\n",
    "        shortcut = self.shortcut(x) # Apply the shortcut (identity or adjusted input)\n",
    "        x = nn.ReLU()(self.bn_block_1(self.conv_block_1(x))) # 1st layer: 1x1 convolution + batch norm + ReLU\n",
    "        x = nn.ReLU()(self.bn_block_2(self.conv_block_2(x))) # 2nd layer: 3x3 convolution + batch norm + ReLU\n",
    "        x = self.bn_block_3(self.conv_block_3(x)) # 3rd layer: 1x1 convolution + batch norm\n",
    "        x += shortcut # Add shortcut (residual connection)\n",
    "        return nn.ReLU()(x) # Apply ReLU to the final output"
   ]
  }
 ],
 "metadata": {
  "kernelspec": {
   "display_name": "base",
   "language": "python",
   "name": "python3"
  },
  "language_info": {
   "codemirror_mode": {
    "name": "ipython",
    "version": 3
   },
   "file_extension": ".py",
   "mimetype": "text/x-python",
   "name": "python",
   "nbconvert_exporter": "python",
   "pygments_lexer": "ipython3",
   "version": "3.11.4"
  }
 },
 "nbformat": 4,
 "nbformat_minor": 2
}
