{
 "cells": [
  {
   "cell_type": "markdown",
   "metadata": {},
   "source": [
    "# Model File\n",
    "\n",
    "This file's purpose is to develop the RestNet CNN based on the following architecture: https://medium.com/@sharma.tanish096/detailed-explanation-of-residual-network-resnet50-cnn-model-106e0ab9fa9e"
   ]
  },
  {
   "cell_type": "code",
   "execution_count": 1,
   "metadata": {},
   "outputs": [
    {
     "name": "stdout",
     "output_type": "stream",
     "text": [
      "../data/intel-image-classification.zip already exists. Skipping download.\n",
      "../data already exists and is not empty. Skipping extraction.\n",
      "There are 3 directories and 0 images in '../data/intel-image-classification'.\n",
      "There are 1 directories and 0 images in '../data/intel-image-classification/seg_test'.\n",
      "There are 6 directories and 0 images in '../data/intel-image-classification/seg_test/seg_test'.\n",
      "There are 0 directories and 474 images in '../data/intel-image-classification/seg_test/seg_test/forest'.\n",
      "There are 0 directories and 437 images in '../data/intel-image-classification/seg_test/seg_test/buildings'.\n",
      "There are 0 directories and 553 images in '../data/intel-image-classification/seg_test/seg_test/glacier'.\n",
      "There are 0 directories and 501 images in '../data/intel-image-classification/seg_test/seg_test/street'.\n",
      "There are 0 directories and 525 images in '../data/intel-image-classification/seg_test/seg_test/mountain'.\n",
      "There are 0 directories and 510 images in '../data/intel-image-classification/seg_test/seg_test/sea'.\n",
      "There are 1 directories and 0 images in '../data/intel-image-classification/seg_train'.\n",
      "There are 6 directories and 0 images in '../data/intel-image-classification/seg_train/seg_train'.\n",
      "There are 0 directories and 2271 images in '../data/intel-image-classification/seg_train/seg_train/forest'.\n",
      "There are 0 directories and 2191 images in '../data/intel-image-classification/seg_train/seg_train/buildings'.\n",
      "There are 0 directories and 2404 images in '../data/intel-image-classification/seg_train/seg_train/glacier'.\n",
      "There are 0 directories and 2382 images in '../data/intel-image-classification/seg_train/seg_train/street'.\n",
      "There are 0 directories and 2512 images in '../data/intel-image-classification/seg_train/seg_train/mountain'.\n",
      "There are 0 directories and 2274 images in '../data/intel-image-classification/seg_train/seg_train/sea'.\n",
      "There are 1 directories and 0 images in '../data/intel-image-classification/seg_pred'.\n",
      "There are 0 directories and 7301 images in '../data/intel-image-classification/seg_pred/seg_pred'.\n",
      "The relevant paths: train_dir: ../data/intel-image-classification/seg_train/seg_train\n",
      "test_dir: ../data/intel-image-classification/seg_test/seg_test\n",
      "image_path: ../data/intel-image-classification\n",
      "The img is: tensor([[[0.0588, 0.0588, 0.0588,  ..., 0.0588, 0.0588, 0.0588],\n",
      "         [0.0588, 0.0588, 0.0588,  ..., 0.0588, 0.0588, 0.0588],\n",
      "         [0.0588, 0.0588, 0.0588,  ..., 0.0588, 0.0588, 0.0588],\n",
      "         ...,\n",
      "         [0.0588, 0.0588, 0.0588,  ..., 0.0588, 0.0588, 0.0588],\n",
      "         [0.0588, 0.0588, 0.0588,  ..., 0.0588, 0.0588, 0.0588],\n",
      "         [0.0588, 0.0588, 0.0588,  ..., 0.0588, 0.0588, 0.0588]],\n",
      "\n",
      "        [[0.0588, 0.0588, 0.0588,  ..., 0.0588, 0.0588, 0.0588],\n",
      "         [0.0588, 0.0588, 0.0588,  ..., 0.0588, 0.0588, 0.0588],\n",
      "         [0.0588, 0.0588, 0.0588,  ..., 0.0588, 0.0588, 0.0588],\n",
      "         ...,\n",
      "         [0.0588, 0.0588, 0.0588,  ..., 0.0588, 0.0588, 0.0588],\n",
      "         [0.0588, 0.0588, 0.0588,  ..., 0.0588, 0.0588, 0.0588],\n",
      "         [0.0588, 0.0588, 0.0588,  ..., 0.0588, 0.0588, 0.0588]],\n",
      "\n",
      "        [[0.0588, 0.0588, 0.0588,  ..., 0.0588, 0.0588, 0.0588],\n",
      "         [0.0588, 0.0588, 0.0588,  ..., 0.0588, 0.0588, 0.0588],\n",
      "         [0.0588, 0.0588, 0.0588,  ..., 0.0588, 0.0588, 0.0588],\n",
      "         ...,\n",
      "         [0.0588, 0.0588, 0.0588,  ..., 0.0588, 0.0588, 0.0588],\n",
      "         [0.0588, 0.0588, 0.0588,  ..., 0.0588, 0.0588, 0.0588],\n",
      "         [0.0588, 0.0588, 0.0588,  ..., 0.0588, 0.0588, 0.0588]]])\n",
      "The shape is: torch.Size([3, 224, 224])\n",
      "The label is: 0\n",
      "Image shape: torch.Size([32, 3, 224, 224]) -> [batch_size, color_channels, height, width]\n",
      "Label shape: torch.Size([32])\n"
     ]
    }
   ],
   "source": [
    "from importnb import Notebook\n",
    "with Notebook():\n",
    "    import dataloader"
   ]
  },
  {
   "cell_type": "code",
   "execution_count": 4,
   "metadata": {},
   "outputs": [],
   "source": [
    "# Importing all relevant variables\n",
    "image_path = dataloader.image_path\n",
    "train_dir = dataloader.train_dir\n",
    "test_dir = dataloader.test_dir\n",
    "pred_dir = dataloader.pred_dir\n",
    "train_transform = dataloader.train_transform\n",
    "plot_transformed_images = dataloader.plot_transformed_images\n",
    "train_data = dataloader.train_data\n",
    "test_data = dataloader.test_data\n",
    "BATCH_SIZE = dataloader.BATCH_SIZE\n",
    "train_dataloader = dataloader.train_dataloader\n",
    "test_dataloader = dataloader.test_dataloader"
   ]
  }
 ],
 "metadata": {
  "kernelspec": {
   "display_name": "base",
   "language": "python",
   "name": "python3"
  },
  "language_info": {
   "codemirror_mode": {
    "name": "ipython",
    "version": 3
   },
   "file_extension": ".py",
   "mimetype": "text/x-python",
   "name": "python",
   "nbconvert_exporter": "python",
   "pygments_lexer": "ipython3",
   "version": "3.11.4"
  }
 },
 "nbformat": 4,
 "nbformat_minor": 2
}
