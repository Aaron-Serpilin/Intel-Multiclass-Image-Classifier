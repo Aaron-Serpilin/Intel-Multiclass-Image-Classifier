{
 "cells": [
  {
   "cell_type": "markdown",
   "metadata": {},
   "source": [
    "# Dataloader File\n",
    "\n",
    "This file's purpose is to get, prepare, explore, transform and load the images from the dataset."
   ]
  },
  {
   "cell_type": "code",
   "execution_count": 1,
   "metadata": {},
   "outputs": [
    {
     "data": {
      "text/plain": [
       "'2.2.2'"
      ]
     },
     "execution_count": 1,
     "metadata": {},
     "output_type": "execute_result"
    }
   ],
   "source": [
    "import torch \n",
    "from torch import nn\n",
    "\n",
    "torch.__version__"
   ]
  },
  {
   "cell_type": "code",
   "execution_count": 2,
   "metadata": {},
   "outputs": [
    {
     "data": {
      "text/plain": [
       "'0.17.2'"
      ]
     },
     "execution_count": 2,
     "metadata": {},
     "output_type": "execute_result"
    }
   ],
   "source": [
    "import torchvision\n",
    "\n",
    "torchvision.__version__"
   ]
  },
  {
   "cell_type": "code",
   "execution_count": 4,
   "metadata": {},
   "outputs": [
    {
     "data": {
      "text/plain": [
       "'cpu'"
      ]
     },
     "execution_count": 4,
     "metadata": {},
     "output_type": "execute_result"
    }
   ],
   "source": [
    "device = \"cuda\" if torch.cuda.is_available() else \"cpu\"\n",
    "device"
   ]
  },
  {
   "cell_type": "markdown",
   "metadata": {},
   "source": [
    "## Data Setup\n",
    "\n",
    "Since we are using kaggle to access this dataset, here is the documentation to setup the kaggle API to make it easier:\n",
    "https://www.kaggle.com/settings\n",
    "\n",
    "Additionally, here is the link to the dataset website: https://www.kaggle.com/datasets/puneet6060/intel-image-classification"
   ]
  },
  {
   "cell_type": "markdown",
   "metadata": {},
   "source": [
    "### Getting Data"
   ]
  },
  {
   "cell_type": "code",
   "execution_count": null,
   "metadata": {},
   "outputs": [],
   "source": [
    "import os\n",
    "import zipfile\n",
    "import random\n",
    "from pathlib import Path\n",
    "import subprocess\n",
    "\n",
    "# Define the dataset and paths\n",
    "dataset = 'puneet6060/intel-image-classification'\n",
    "\n",
    "# Navigate one level up to place the data folder at the same level as the src folder\n",
    "base_path = Path(\"..\")  # Represents one level above the current directory\n",
    "data_path = base_path / 'data'\n",
    "zip_path = data_path / 'intel-image-classification.zip'\n",
    "subset_path = data_path / 'intel-image-classification-subset'\n",
    "\n",
    "# Create data directory if it doesn't exist\n",
    "data_path.mkdir(parents=True, exist_ok=True)\n",
    "\n",
    "# Download the zip file if it doesn't already exist\n",
    "if not zip_path.exists():\n",
    "    print(f\"Downloading {dataset} dataset...\")\n",
    "    subprocess.run(['kaggle', 'datasets', 'download', '-d', dataset, '-p', str(data_path)])\n",
    "else:\n",
    "    print(f\"{zip_path} already exists. Skipping download.\")\n",
    "\n",
    "# Extract a subset of the dataset\n",
    "if not subset_path.exists():\n",
    "    subset_path.mkdir(parents=True, exist_ok=True)\n",
    "    print(\"Extracting a 25% subset of the dataset...\")\n",
    "\n",
    "    with zipfile.ZipFile(zip_path, 'r') as zip_ref:\n",
    "        # List all files in the zip\n",
    "        all_files = [f for f in zip_ref.namelist() if f.endswith(('.jpg', '.png'))]\n",
    "        \n",
    "        # Select a random 25% of the files\n",
    "        subset_files = random.sample(all_files, int(len(all_files) * 0.25))\n",
    "        \n",
    "        # Extract the selected files\n",
    "        for file in subset_files:\n",
    "            zip_ref.extract(file, subset_path)\n",
    "else:\n",
    "    print(f\"Subset already exists at {subset_path}. Skipping extraction.\")\n",
    "\n",
    "print(f\"Subset extracted to: {subset_path}\")"
   ]
  }
 ],
 "metadata": {
  "kernelspec": {
   "display_name": "base",
   "language": "python",
   "name": "python3"
  },
  "language_info": {
   "codemirror_mode": {
    "name": "ipython",
    "version": 3
   },
   "file_extension": ".py",
   "mimetype": "text/x-python",
   "name": "python",
   "nbconvert_exporter": "python",
   "pygments_lexer": "ipython3",
   "version": "3.11.4"
  }
 },
 "nbformat": 4,
 "nbformat_minor": 2
}
